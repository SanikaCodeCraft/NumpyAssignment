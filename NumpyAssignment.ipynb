{
 "cells": [
  {
   "cell_type": "markdown",
   "id": "44fb46dc-aedc-4c0c-b3eb-e5f3ee9f6a14",
   "metadata": {},
   "source": [
    "1. Create a vector with values ranging from 10 to 49."
   ]
  },
  {
   "cell_type": "code",
   "execution_count": 8,
   "id": "153a4fdb-0053-433c-842d-a1999858893d",
   "metadata": {},
   "outputs": [
    {
     "name": "stdout",
     "output_type": "stream",
     "text": [
      "[10 11 12 13 14 15 16 17 18 19 20 21 22 23 24 25 26 27 28 29 30 31 32 33\n",
      " 34 35 36 37 38 39 40 41 42 43 44 45 46 47 48 49]\n"
     ]
    }
   ],
   "source": [
    "import numpy as np\n",
    "b=np.arange(10,50) \n",
    "print(b)"
   ]
  },
  {
   "cell_type": "markdown",
   "id": "10af21b5-a680-4e84-992e-5c91175723b0",
   "metadata": {},
   "source": [
    "2. Create a 3x3 matrix with values ranging from 0 to 8."
   ]
  },
  {
   "cell_type": "code",
   "execution_count": 10,
   "id": "3a2911db-bb0c-4c99-bff5-aeded5582312",
   "metadata": {},
   "outputs": [
    {
     "name": "stdout",
     "output_type": "stream",
     "text": [
      "[[0 1 2]\n",
      " [3 4 5]\n",
      " [6 7 8]]\n"
     ]
    }
   ],
   "source": [
    "matrix = np.arange(9).reshape(3, 3)\n",
    "print(matrix)"
   ]
  },
  {
   "cell_type": "markdown",
   "id": "7b369b64-1391-4faa-80bb-4d6ba4abb2e4",
   "metadata": {},
   "source": [
    "3. Create a 10x10 array with random values and find the minimum and maximum values."
   ]
  },
  {
   "cell_type": "code",
   "execution_count": 11,
   "id": "6d99d95b-b904-4b2d-a978-5f10e4d17d3f",
   "metadata": {
    "scrolled": true
   },
   "outputs": [
    {
     "name": "stdout",
     "output_type": "stream",
     "text": [
      "[[ 0  1  2  3  4  5  6  7  8  9]\n",
      " [10 11 12 13 14 15 16 17 18 19]\n",
      " [20 21 22 23 24 25 26 27 28 29]\n",
      " [30 31 32 33 34 35 36 37 38 39]\n",
      " [40 41 42 43 44 45 46 47 48 49]\n",
      " [50 51 52 53 54 55 56 57 58 59]\n",
      " [60 61 62 63 64 65 66 67 68 69]\n",
      " [70 71 72 73 74 75 76 77 78 79]\n",
      " [80 81 82 83 84 85 86 87 88 89]\n",
      " [90 91 92 93 94 95 96 97 98 99]]\n",
      "The min value is: 0\n",
      "The max value is: 99\n"
     ]
    }
   ],
   "source": [
    "matrix = np.arange(100).reshape(10, 10)\n",
    "print(matrix)\n",
    "min=np.min(matrix)\n",
    "print(\"The min value is:\",min)\n",
    "max=np.max(matrix)\n",
    "print(\"The max value is:\",max)"
   ]
  },
  {
   "cell_type": "markdown",
   "id": "9f9e2784-8911-483e-9b33-eed80c61dc7f",
   "metadata": {},
   "source": [
    "4. Create a random vector of size 30 and find the mean value."
   ]
  },
  {
   "cell_type": "code",
   "execution_count": 12,
   "id": "68021924-db9e-4674-bc6b-60fc7575667b",
   "metadata": {},
   "outputs": [
    {
     "name": "stdout",
     "output_type": "stream",
     "text": [
      "Mean value is: 0.4189251986776363\n"
     ]
    }
   ],
   "source": [
    "vector = np.random.random(30)\n",
    "meanvalue = np.mean(vector)\n",
    "print(\"Mean value is:\", meanvalue)"
   ]
  },
  {
   "cell_type": "markdown",
   "id": "ec2619a9-6b54-4dd3-a297-84e0614a8185",
   "metadata": {},
   "source": [
    "5. Perform addition, subtraction, multiplication, and division of two given NumPy arrays."
   ]
  },
  {
   "cell_type": "code",
   "execution_count": 13,
   "id": "3a5d825b-5eff-4d37-8f69-70224580408a",
   "metadata": {},
   "outputs": [
    {
     "name": "stdout",
     "output_type": "stream",
     "text": [
      "Addition:\n",
      "[[ 6  8]\n",
      " [10 12]]\n",
      "\n",
      "Subtraction:\n",
      "[[-4 -4]\n",
      " [-4 -4]]\n",
      "\n",
      "Multiplication:\n",
      "[[ 5 12]\n",
      " [21 32]]\n",
      "\n",
      "Division:\n",
      "[[0.2        0.33333333]\n",
      " [0.42857143 0.5       ]]\n"
     ]
    }
   ],
   "source": [
    "array1 = np.array([[1, 2], [3, 4]])\n",
    "array2 = np.array([[5, 6], [7, 8]])\n",
    "# Addition\n",
    "addition= array1 + array2\n",
    "# Subtraction\n",
    "subtraction= array1 - array2\n",
    "# Multiplication\n",
    "multiplication= array1 * array2\n",
    "# Division\n",
    "division= np.divide(array1, array2)                    \n",
    "print(\"Addition:\")\n",
    "print(addition)\n",
    "print(\"\\nSubtraction:\")\n",
    "print(subtraction)\n",
    "print(\"\\nMultiplication:\")\n",
    "print(multiplication)\n",
    "print(\"\\nDivision:\")\n",
    "print(division)"
   ]
  },
  {
   "cell_type": "markdown",
   "id": "e65ed6cb-c2c9-4b4a-856e-c2a3579e88de",
   "metadata": {},
   "source": [
    "6. Calculate the element-wise square root of a given NumPy array."
   ]
  },
  {
   "cell_type": "code",
   "execution_count": 14,
   "id": "ea852d27-819f-4eec-b779-1062549d51d8",
   "metadata": {},
   "outputs": [
    {
     "name": "stdout",
     "output_type": "stream",
     "text": [
      "Element-wise square root:\n",
      "[[2. 3.]\n",
      " [4. 5.]]\n"
     ]
    }
   ],
   "source": [
    "array = np.array([[4, 9], [16, 25]])\n",
    "sqrt= np.sqrt(array)\n",
    "print(\"Element-wise square root:\")\n",
    "print(sqrt)"
   ]
  },
  {
   "cell_type": "markdown",
   "id": "9eb3d31b-258f-49d3-9996-2166f96d134a",
   "metadata": {},
   "source": [
    "7. Stack two given arrays vertically and horizontally."
   ]
  },
  {
   "cell_type": "code",
   "execution_count": 15,
   "id": "64015de1-bf5d-43e3-b438-ee9f99dc23ae",
   "metadata": {},
   "outputs": [
    {
     "name": "stdout",
     "output_type": "stream",
     "text": [
      "Stack vertically:\n",
      "[[ 1  2  3]\n",
      " [ 4  5  6]\n",
      " [ 7  8  9]\n",
      " [10 11 12]]\n",
      "\n",
      "Stack horizontally:\n",
      "[[ 1  2  3  7  8  9]\n",
      " [ 4  5  6 10 11 12]]\n"
     ]
    }
   ],
   "source": [
    "array1 = np.array([[1, 2, 3], [4, 5, 6]])\n",
    "array2 = np.array([[7, 8, 9], [10, 11, 12]])\n",
    "verticalstack = np.vstack((array1, array2))\n",
    "horizontalstack = np.hstack((array1, array2))\n",
    "print(\"Stack vertically:\")\n",
    "print(verticalstack)\n",
    "print(\"\\nStack horizontally:\")\n",
    "print(horizontalstack)"
   ]
  },
  {
   "cell_type": "markdown",
   "id": "56046c1d-1640-423c-b289-997b0ace5784",
   "metadata": {},
   "source": [
    "8. Reshape a given 1D array into a 2D array with 3 rows and 4 columns."
   ]
  },
  {
   "cell_type": "code",
   "execution_count": 16,
   "id": "bc146937-9126-4775-839f-17ead31b8cef",
   "metadata": {},
   "outputs": [
    {
     "name": "stdout",
     "output_type": "stream",
     "text": [
      "Original 1D array:\n",
      "[ 1  2  3  4  5  6  7  8  9 10 11 12]\n",
      "\n",
      "Reshaped 2D array:\n",
      "[[ 1  2  3  4]\n",
      " [ 5  6  7  8]\n",
      " [ 9 10 11 12]]\n"
     ]
    }
   ],
   "source": [
    "array1d = np.array([1, 2, 3, 4, 5, 6, 7, 8, 9, 10, 11, 12])\n",
    "array2d = array1d.reshape(3, 4)\n",
    "print(\"Original 1D array:\")\n",
    "print(array1d)\n",
    "print(\"\\nReshaped 2D array:\")\n",
    "print(array2d)"
   ]
  },
  {
   "cell_type": "markdown",
   "id": "3f98e60e-788d-41c3-84c4-e14465a087e7",
   "metadata": {},
   "source": [
    "9. Transpose a given 2D array and then flatten it into a 1D array."
   ]
  },
  {
   "cell_type": "code",
   "execution_count": 17,
   "id": "d10aaf9c-57c9-49d0-b0c7-0d107b4dfe4a",
   "metadata": {},
   "outputs": [
    {
     "name": "stdout",
     "output_type": "stream",
     "text": [
      "Original 2D array:\n",
      "[[1 2 3]\n",
      " [4 5 6]\n",
      " [7 8 9]]\n",
      "\n",
      "Transposed array:\n",
      "[[1 2 3]\n",
      " [4 5 6]\n",
      " [7 8 9]]\n",
      "\n",
      "Flattened 1D array:\n",
      "[1 2 3 4 5 6 7 8 9]\n"
     ]
    }
   ],
   "source": [
    "array= np.array([[1, 2, 3],\n",
    "                 [4, 5, 6],\n",
    "                 [7, 8, 9]])\n",
    "transposedarray = array\n",
    "flattened= transposedarray.flatten()\n",
    "print(\"Original 2D array:\")\n",
    "print(array)\n",
    "print(\"\\nTransposed array:\")\n",
    "print(transposedarray)\n",
    "print(\"\\nFlattened 1D array:\")\n",
    "print(flattened)"
   ]
  },
  {
   "cell_type": "markdown",
   "id": "4b63a4e8-45be-49fa-8f91-4575ad0d9d57",
   "metadata": {},
   "source": [
    "10. Create a random of array and implement different slicing methods on it."
   ]
  },
  {
   "cell_type": "code",
   "execution_count": 18,
   "id": "b894d261-d54b-4558-bc28-f1d69d7af3b9",
   "metadata": {},
   "outputs": [
    {
     "name": "stdout",
     "output_type": "stream",
     "text": [
      "Random Array:\n",
      "[[88 59 41 92 98]\n",
      " [ 4 63 34 93 93]\n",
      " [ 1 63 65 67 27]\n",
      " [86 16 95 81  5]\n",
      " [69 70  9 85  9]]\n",
      "\n",
      "[[63 34 93]\n",
      " [63 65 67]\n",
      " [16 95 81]]\n",
      "\n",
      "[[88 41 98]\n",
      " [ 1 65 27]\n",
      " [69  9  9]]\n",
      "\n",
      "[[65 67]\n",
      " [95 81]]\n",
      "\n"
     ]
    }
   ],
   "source": [
    "import numpy as np\n",
    "randomarray = np.random.randint(1, 100, size=(5, 5))\n",
    "print(\"Random Array:\")\n",
    "print(randomarray)\n",
    "print()\n",
    "slice_1 = randomarray[1:4, 1:4]\n",
    "print(slice_1)\n",
    "print()\n",
    "slice_2 = randomarray[::2, ::2]\n",
    "print(slice_2)\n",
    "print()\n",
    "slice_3 = randomarray[-3:-1, -3:-1]\n",
    "print(slice_3)\n",
    "print()"
   ]
  },
  {
   "cell_type": "code",
   "execution_count": null,
   "id": "8e4fad2c-e529-4f98-8f32-6c6fb81a131a",
   "metadata": {},
   "outputs": [],
   "source": []
  }
 ],
 "metadata": {
  "kernelspec": {
   "display_name": "Python 3 (ipykernel)",
   "language": "python",
   "name": "python3"
  },
  "language_info": {
   "codemirror_mode": {
    "name": "ipython",
    "version": 3
   },
   "file_extension": ".py",
   "mimetype": "text/x-python",
   "name": "python",
   "nbconvert_exporter": "python",
   "pygments_lexer": "ipython3",
   "version": "3.12.3"
  }
 },
 "nbformat": 4,
 "nbformat_minor": 5
}
